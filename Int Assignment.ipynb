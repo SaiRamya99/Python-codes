{
 "cells": [
  {
   "cell_type": "markdown",
   "id": "ed9b8d76",
   "metadata": {},
   "source": [
    "Q# Declare an int value and store it in a variable.\n",
    "Check the type and print the id of the same."
   ]
  },
  {
   "cell_type": "code",
   "execution_count": 1,
   "id": "f2cac0c6",
   "metadata": {},
   "outputs": [
    {
     "name": "stdout",
     "output_type": "stream",
     "text": [
      "2167730301840\n"
     ]
    }
   ],
   "source": [
    "#Ans\n",
    "\n",
    "num1 = 20\n",
    "print(id(num1))"
   ]
  },
  {
   "cell_type": "markdown",
   "id": "5164dbe8",
   "metadata": {},
   "source": [
    "Q# Take one int value between 0 - 256.\n",
    "Assign it to two different variables.\n",
    "Check the id of both the variables. It should come the same. Check why?"
   ]
  },
  {
   "cell_type": "code",
   "execution_count": 2,
   "id": "d1568d67",
   "metadata": {},
   "outputs": [
    {
     "name": "stdout",
     "output_type": "stream",
     "text": [
      "num1 id: 2167730301840\n",
      "num2 id: 2167730301840\n"
     ]
    }
   ],
   "source": [
    "#Ans\n",
    "num1 = 20\n",
    "num2 = 20\n",
    "print(f\"num1 id: {id(num1)}\")\n",
    "print(f\"num2 id: {id(num2)}\")"
   ]
  },
  {
   "cell_type": "markdown",
   "id": "6b491466",
   "metadata": {},
   "source": [
    "The Reason for getting the same Id is in Python, integers (-5 to 256) are interned which means that when we use these integers in code a new object will not be created. These are the stored values in python memory so when names are bound to those values they will be stored in fixed memory.And Integers are Immutable."
   ]
  },
  {
   "cell_type": "markdown",
   "id": "b0f00783",
   "metadata": {},
   "source": [
    "Q# Take one int value either less than -5 or greater than 256.\n",
    "Assign it to two different variables.\n",
    "Check the id of both the variables. It should come different.Check why?"
   ]
  },
  {
   "cell_type": "code",
   "execution_count": 3,
   "id": "536933d9",
   "metadata": {},
   "outputs": [
    {
     "name": "stdout",
     "output_type": "stream",
     "text": [
      "num1 id: 2167816664688\n",
      "num2 id: 2167816664816\n"
     ]
    }
   ],
   "source": [
    "#Ans\n",
    "num1 = 257\n",
    "num2 = 257\n",
    "print(f\"num1 id: {id(num1)}\")\n",
    "print(f\"num2 id: {id(num2)}\")"
   ]
  },
  {
   "cell_type": "markdown",
   "id": "3bb6d822",
   "metadata": {},
   "source": [
    "The Reason is that the values are (-5 to 256) are the stored values in Python memory. So if we assign integers less than -5 or greater than 256, new objects will be created and even if the same values are given to different variables values cannot be same."
   ]
  },
  {
   "cell_type": "markdown",
   "id": "b6e3aa90",
   "metadata": {},
   "source": [
    "Q# Arithmetic Operations on integers\n",
    "Take two different integer values.\n",
    "Store them in two different variables.\n",
    "Do below operations on them:-"
   ]
  },
  {
   "cell_type": "code",
   "execution_count": 4,
   "id": "f9ebae2c",
   "metadata": {},
   "outputs": [
    {
     "name": "stdout",
     "output_type": "stream",
     "text": [
      "Sum of two numbers: 50\n"
     ]
    }
   ],
   "source": [
    "#Ans\n",
    "\n",
    "num1 = 30\n",
    "num2 = 20\n",
    "\n",
    "# Find sum of both numbers\n",
    "sum1 = num1 + num2\n",
    "print(f\"Sum of two numbers: {sum1}\")"
   ]
  },
  {
   "cell_type": "code",
   "execution_count": 5,
   "id": "0492a011",
   "metadata": {},
   "outputs": [
    {
     "name": "stdout",
     "output_type": "stream",
     "text": [
      "Difference of two numbers: 10\n"
     ]
    }
   ],
   "source": [
    "#Find difference between them\n",
    "diff1 = num1 - num2\n",
    "print(f\"Difference of two numbers: {diff1}\")"
   ]
  },
  {
   "cell_type": "code",
   "execution_count": 6,
   "id": "4388c845",
   "metadata": {},
   "outputs": [
    {
     "name": "stdout",
     "output_type": "stream",
     "text": [
      "Product of two numbers: 600\n"
     ]
    }
   ],
   "source": [
    "#Find the product of both numbers.\n",
    "prod1 = num1 * num2\n",
    "print(f\"Product of two numbers: {prod1}\")"
   ]
  },
  {
   "cell_type": "code",
   "execution_count": 7,
   "id": "cad9b999",
   "metadata": {},
   "outputs": [
    {
     "name": "stdout",
     "output_type": "stream",
     "text": [
      "Division of num1 by num2: 1.5\n"
     ]
    }
   ],
   "source": [
    "#Find value after dividing first num with second number\n",
    "Div1 = num1 / num2\n",
    "print(f\"Division of num1 by num2: {Div1}\")"
   ]
  },
  {
   "cell_type": "code",
   "execution_count": 8,
   "id": "7729c2c2",
   "metadata": {},
   "outputs": [
    {
     "name": "stdout",
     "output_type": "stream",
     "text": [
      "Remainder of num1 by num2: 10\n"
     ]
    }
   ],
   "source": [
    "#Find the remainder after dividing first number with second number\n",
    "rem1 = num1 % num2\n",
    "print(f\"Remainder of num1 by num2: {rem1}\")"
   ]
  },
  {
   "cell_type": "code",
   "execution_count": 9,
   "id": "6da28e8d",
   "metadata": {},
   "outputs": [
    {
     "name": "stdout",
     "output_type": "stream",
     "text": [
      "Quotient of num1 by num2: 1\n"
     ]
    }
   ],
   "source": [
    "#Find the quotient after dividing first number with second number\n",
    "Quo1 = num1 // num2\n",
    "print(f\"Quotient of num1 by num2: {Quo1}\")"
   ]
  },
  {
   "cell_type": "code",
   "execution_count": 10,
   "id": "808fcd0d",
   "metadata": {},
   "outputs": [
    {
     "name": "stdout",
     "output_type": "stream",
     "text": [
      "Result of num1 to the power of num2: 348678440100000000000000000000\n"
     ]
    }
   ],
   "source": [
    "#Find the result of the first num to the power of the second number.\n",
    "Power1 = num1 ** num2\n",
    "print(f\"Result of num1 to the power of num2: {Power1}\")"
   ]
  },
  {
   "cell_type": "markdown",
   "id": "2ec150e5",
   "metadata": {},
   "source": [
    "Q# Comparison Operators on integers\n",
    "Take two different integer values.\n",
    "Store them in two different variables."
   ]
  },
  {
   "cell_type": "code",
   "execution_count": 11,
   "id": "0a66b63c",
   "metadata": {},
   "outputs": [
    {
     "name": "stdout",
     "output_type": "stream",
     "text": [
      "False\n"
     ]
    }
   ],
   "source": [
    "#Ans\n",
    "a = 10\n",
    "b = 20\n",
    "\n",
    "#Greater than, '>'\n",
    "print(a > b)"
   ]
  },
  {
   "cell_type": "code",
   "execution_count": 12,
   "id": "16da12fe",
   "metadata": {},
   "outputs": [
    {
     "name": "stdout",
     "output_type": "stream",
     "text": [
      "True\n"
     ]
    }
   ],
   "source": [
    "#Smaller than, '<'\n",
    "print(a < b)"
   ]
  },
  {
   "cell_type": "code",
   "execution_count": 13,
   "id": "3421ee97",
   "metadata": {},
   "outputs": [
    {
     "name": "stdout",
     "output_type": "stream",
     "text": [
      "False\n"
     ]
    }
   ],
   "source": [
    "#Greater than or equal to, '>='\n",
    "print(a >= b)"
   ]
  },
  {
   "cell_type": "code",
   "execution_count": 14,
   "id": "c7abcc37",
   "metadata": {},
   "outputs": [
    {
     "name": "stdout",
     "output_type": "stream",
     "text": [
      "True\n"
     ]
    }
   ],
   "source": [
    "#Less than or equal to, '<='\n",
    "print(a <= b)"
   ]
  },
  {
   "cell_type": "markdown",
   "id": "1128cd47",
   "metadata": {},
   "source": [
    "Q# Equality Operator\n",
    "Take two different integer values.\n",
    "Store them in two different variables.\n",
    "Equate them using equality operators (==, !=)"
   ]
  },
  {
   "cell_type": "code",
   "execution_count": 15,
   "id": "3718da73",
   "metadata": {},
   "outputs": [
    {
     "name": "stdout",
     "output_type": "stream",
     "text": [
      "False\n"
     ]
    }
   ],
   "source": [
    "#Ans\n",
    "a = 10\n",
    "b = 20\n",
    "\n",
    "print(a == b)"
   ]
  },
  {
   "cell_type": "code",
   "execution_count": 16,
   "id": "3800788d",
   "metadata": {},
   "outputs": [
    {
     "name": "stdout",
     "output_type": "stream",
     "text": [
      "True\n"
     ]
    }
   ],
   "source": [
    "print(a != b)"
   ]
  },
  {
   "cell_type": "markdown",
   "id": "8d8989eb",
   "metadata": {},
   "source": [
    "Q# Logical operators\n",
    "Observe the output of below code\n",
    "\n",
    "Cross check the output manually"
   ]
  },
  {
   "cell_type": "code",
   "execution_count": 17,
   "id": "212ef51d",
   "metadata": {},
   "outputs": [
    {
     "name": "stdout",
     "output_type": "stream",
     "text": [
      "20\n"
     ]
    }
   ],
   "source": [
    "print(10 and 20)"
   ]
  },
  {
   "cell_type": "code",
   "execution_count": 18,
   "id": "930bf9b4",
   "metadata": {},
   "outputs": [
    {
     "name": "stdout",
     "output_type": "stream",
     "text": [
      "0\n"
     ]
    }
   ],
   "source": [
    "print(0 and 20)"
   ]
  },
  {
   "cell_type": "code",
   "execution_count": 19,
   "id": "d586a7ec",
   "metadata": {},
   "outputs": [
    {
     "name": "stdout",
     "output_type": "stream",
     "text": [
      "0\n"
     ]
    }
   ],
   "source": [
    "print(20 and 0)"
   ]
  },
  {
   "cell_type": "code",
   "execution_count": 20,
   "id": "92e6cc52",
   "metadata": {},
   "outputs": [
    {
     "name": "stdout",
     "output_type": "stream",
     "text": [
      "0\n"
     ]
    }
   ],
   "source": [
    "print(0 and 0)"
   ]
  },
  {
   "cell_type": "code",
   "execution_count": 21,
   "id": "a9ef0681",
   "metadata": {},
   "outputs": [
    {
     "name": "stdout",
     "output_type": "stream",
     "text": [
      "10\n"
     ]
    }
   ],
   "source": [
    "print(10 or 20)"
   ]
  },
  {
   "cell_type": "code",
   "execution_count": 22,
   "id": "130c8a5e",
   "metadata": {},
   "outputs": [
    {
     "name": "stdout",
     "output_type": "stream",
     "text": [
      "20\n"
     ]
    }
   ],
   "source": [
    "print(0 or 20)"
   ]
  },
  {
   "cell_type": "code",
   "execution_count": 23,
   "id": "eb62fd1c",
   "metadata": {},
   "outputs": [
    {
     "name": "stdout",
     "output_type": "stream",
     "text": [
      "20\n"
     ]
    }
   ],
   "source": [
    "print(20 or 0)"
   ]
  },
  {
   "cell_type": "code",
   "execution_count": 24,
   "id": "02b3bc2e",
   "metadata": {},
   "outputs": [
    {
     "name": "stdout",
     "output_type": "stream",
     "text": [
      "0\n"
     ]
    }
   ],
   "source": [
    "print(0 or 0)"
   ]
  },
  {
   "cell_type": "code",
   "execution_count": 25,
   "id": "d35d1742",
   "metadata": {},
   "outputs": [
    {
     "name": "stdout",
     "output_type": "stream",
     "text": [
      "False\n"
     ]
    }
   ],
   "source": [
    "print(not 10)"
   ]
  },
  {
   "cell_type": "code",
   "execution_count": 26,
   "id": "7319be20",
   "metadata": {},
   "outputs": [
    {
     "name": "stdout",
     "output_type": "stream",
     "text": [
      "True\n"
     ]
    }
   ],
   "source": [
    "print(not 0)"
   ]
  },
  {
   "cell_type": "markdown",
   "id": "2a510969",
   "metadata": {},
   "source": [
    "Q# Bitwise Operators\n",
    "Do below operations on the values provided below:-"
   ]
  },
  {
   "cell_type": "code",
   "execution_count": 27,
   "id": "bcc7ba9c",
   "metadata": {},
   "outputs": [
    {
     "name": "stdout",
     "output_type": "stream",
     "text": [
      "0\n"
     ]
    }
   ],
   "source": [
    "#Ans\n",
    "\n",
    "#Bitwise and(&)\n",
    "\n",
    "print(10 & 20)"
   ]
  },
  {
   "cell_type": "code",
   "execution_count": 28,
   "id": "7f957cf8",
   "metadata": {},
   "outputs": [
    {
     "name": "stdout",
     "output_type": "stream",
     "text": [
      "30\n"
     ]
    }
   ],
   "source": [
    "#Bitwise or(|)\n",
    "\n",
    "print(10 | 20)"
   ]
  },
  {
   "cell_type": "code",
   "execution_count": 29,
   "id": "99116c20",
   "metadata": {},
   "outputs": [
    {
     "name": "stdout",
     "output_type": "stream",
     "text": [
      "30\n"
     ]
    }
   ],
   "source": [
    "#Bitwise(^)\n",
    "\n",
    "print(10 ^ 20)"
   ]
  },
  {
   "cell_type": "code",
   "execution_count": 30,
   "id": "c4b0f99b",
   "metadata": {},
   "outputs": [
    {
     "name": "stdout",
     "output_type": "stream",
     "text": [
      "-11\n"
     ]
    }
   ],
   "source": [
    "#Bitwise negation(~)\n",
    "\n",
    "print(~ 10)"
   ]
  },
  {
   "cell_type": "code",
   "execution_count": 31,
   "id": "0bb3b8fb",
   "metadata": {},
   "outputs": [
    {
     "name": "stdout",
     "output_type": "stream",
     "text": [
      "40\n"
     ]
    }
   ],
   "source": [
    "#Bitwise left shift\n",
    "\n",
    "print(10 << 2)"
   ]
  },
  {
   "cell_type": "code",
   "execution_count": 32,
   "id": "3988795c",
   "metadata": {},
   "outputs": [
    {
     "name": "stdout",
     "output_type": "stream",
     "text": [
      "2\n"
     ]
    }
   ],
   "source": [
    "#Bitwise right shift\n",
    "\n",
    "print(10 >> 2)"
   ]
  },
  {
   "cell_type": "markdown",
   "id": "bae9f983",
   "metadata": {},
   "source": [
    "Q# What is the output of expression inside print statement. Cross check\n",
    "before running the program."
   ]
  },
  {
   "cell_type": "code",
   "execution_count": 33,
   "id": "10484fc8",
   "metadata": {},
   "outputs": [
    {
     "name": "stdout",
     "output_type": "stream",
     "text": [
      "True\n",
      "False\n"
     ]
    }
   ],
   "source": [
    "#Ans\n",
    "\n",
    "a = 10\n",
    "b = 10\n",
    "print(a is b) \n",
    "print(a is not b)"
   ]
  },
  {
   "cell_type": "code",
   "execution_count": 34,
   "id": "b4387e68",
   "metadata": {},
   "outputs": [
    {
     "name": "stdout",
     "output_type": "stream",
     "text": [
      "False\n",
      "True\n"
     ]
    }
   ],
   "source": [
    "a = 1000\n",
    "b = 1000\n",
    "print(a is b) \n",
    "print(a is not b)"
   ]
  },
  {
   "cell_type": "markdown",
   "id": "9be0e858",
   "metadata": {},
   "source": [
    "Q# What is the output of expression inside print statement. Cross check\n",
    "before running the program."
   ]
  },
  {
   "cell_type": "code",
   "execution_count": 35,
   "id": "4dcafc65",
   "metadata": {},
   "outputs": [
    {
     "name": "stdout",
     "output_type": "stream",
     "text": [
      "20\n"
     ]
    }
   ],
   "source": [
    "print(10+(10*32)//2**5&20+(~(-10))<<2)"
   ]
  },
  {
   "cell_type": "markdown",
   "id": "a80c1967",
   "metadata": {},
   "source": [
    "Q# Membership operation\n",
    "in, not in are two membership operators and it returns boolean value"
   ]
  },
  {
   "cell_type": "code",
   "execution_count": 36,
   "id": "b42cffaa",
   "metadata": {},
   "outputs": [
    {
     "name": "stdout",
     "output_type": "stream",
     "text": [
      "True\n"
     ]
    }
   ],
   "source": [
    "print('2' in 'Python2.7.8')"
   ]
  },
  {
   "cell_type": "code",
   "execution_count": 37,
   "id": "76f8d034",
   "metadata": {},
   "outputs": [
    {
     "name": "stdout",
     "output_type": "stream",
     "text": [
      "True\n"
     ]
    }
   ],
   "source": [
    "print(10 in [10,10.20,10+20j,'Python'])"
   ]
  },
  {
   "cell_type": "code",
   "execution_count": 38,
   "id": "ba3336bf",
   "metadata": {},
   "outputs": [
    {
     "name": "stdout",
     "output_type": "stream",
     "text": [
      "True\n"
     ]
    }
   ],
   "source": [
    "print(10 in (10,10.20,10+20j,'Python'))"
   ]
  },
  {
   "cell_type": "code",
   "execution_count": 39,
   "id": "b1907dc8",
   "metadata": {},
   "outputs": [
    {
     "name": "stdout",
     "output_type": "stream",
     "text": [
      "True\n"
     ]
    }
   ],
   "source": [
    "print(2 in {1,2,3})"
   ]
  },
  {
   "cell_type": "code",
   "execution_count": 40,
   "id": "0368dac4",
   "metadata": {},
   "outputs": [
    {
     "name": "stdout",
     "output_type": "stream",
     "text": [
      "True\n"
     ]
    }
   ],
   "source": [
    "print(3 in {1:100, 2:200, 3:300})"
   ]
  },
  {
   "cell_type": "code",
   "execution_count": 41,
   "id": "29224cd0",
   "metadata": {},
   "outputs": [
    {
     "name": "stdout",
     "output_type": "stream",
     "text": [
      "True\n"
     ]
    }
   ],
   "source": [
    "print(10 in range(20))"
   ]
  },
  {
   "cell_type": "markdown",
   "id": "ebf5f900",
   "metadata": {},
   "source": [
    "Q# An integer can be represented in binary, octal or hexadecimal form.\n",
    "Declare one binary, one octal and one hexadecimal value and store them\n",
    "in three different variables.\n",
    "Convert 9876 to its binary, octal and hexadecimal equivalent and print\n",
    "their corresponding value."
   ]
  },
  {
   "cell_type": "code",
   "execution_count": 42,
   "id": "9cbe4cf5",
   "metadata": {},
   "outputs": [],
   "source": [
    "#Ans\n",
    "\n",
    "#Declare one binary, one octal and one hexadecimal value and store them in three different variables.\n",
    "\n",
    "a = 0b1011 #binary\n",
    "b = 0o31 #octal\n",
    "c = 0xE #hexadecimal"
   ]
  },
  {
   "cell_type": "code",
   "execution_count": 43,
   "id": "5efdf6f8",
   "metadata": {},
   "outputs": [
    {
     "name": "stdout",
     "output_type": "stream",
     "text": [
      "Binary value of 9876: 0b10011010010100\n"
     ]
    }
   ],
   "source": [
    "#Convert 9876 to its binary, octal and hexadecimal equivalent and print their corresponding value.\n",
    "\n",
    "a = 9876\n",
    "print(f\"Binary value of 9876: {bin(a)}\")"
   ]
  },
  {
   "cell_type": "code",
   "execution_count": 44,
   "id": "653c0689",
   "metadata": {},
   "outputs": [
    {
     "name": "stdout",
     "output_type": "stream",
     "text": [
      "Octal value of 9876: 0o23224\n"
     ]
    }
   ],
   "source": [
    "print(f\"Octal value of 9876: {oct(a)}\")"
   ]
  },
  {
   "cell_type": "code",
   "execution_count": 45,
   "id": "88b4ff96",
   "metadata": {},
   "outputs": [
    {
     "name": "stdout",
     "output_type": "stream",
     "text": [
      "Hexadecimal value of 9876: 0x2694\n"
     ]
    }
   ],
   "source": [
    "print(f\"Hexadecimal value of 9876: {hex(a)}\")"
   ]
  },
  {
   "cell_type": "markdown",
   "id": "bb3f5405",
   "metadata": {},
   "source": [
    "#Q. What will be the output of following:-"
   ]
  },
  {
   "cell_type": "code",
   "execution_count": 46,
   "id": "ac52eb6d",
   "metadata": {},
   "outputs": [
    {
     "name": "stdout",
     "output_type": "stream",
     "text": [
      "80\n"
     ]
    }
   ],
   "source": [
    "a = 0b1010000\n",
    "print(a)"
   ]
  },
  {
   "cell_type": "code",
   "execution_count": 47,
   "id": "09047316",
   "metadata": {},
   "outputs": [
    {
     "name": "stdout",
     "output_type": "stream",
     "text": [
      "3870\n"
     ]
    }
   ],
   "source": [
    "b = 0o7436\n",
    "print(b)"
   ]
  },
  {
   "cell_type": "code",
   "execution_count": 48,
   "id": "8f7c12e3",
   "metadata": {},
   "outputs": [
    {
     "name": "stdout",
     "output_type": "stream",
     "text": [
      "64222\n"
     ]
    }
   ],
   "source": [
    "c = 0xfade\n",
    "print(c)"
   ]
  },
  {
   "cell_type": "code",
   "execution_count": 49,
   "id": "58f9f44d",
   "metadata": {},
   "outputs": [
    {
     "name": "stdout",
     "output_type": "stream",
     "text": [
      "0b1010000\n"
     ]
    }
   ],
   "source": [
    "print(bin(80))"
   ]
  },
  {
   "cell_type": "code",
   "execution_count": 50,
   "id": "abf37860",
   "metadata": {},
   "outputs": [
    {
     "name": "stdout",
     "output_type": "stream",
     "text": [
      "0o7436\n"
     ]
    }
   ],
   "source": [
    "print(oct(3870))"
   ]
  },
  {
   "cell_type": "code",
   "execution_count": 51,
   "id": "775ad834",
   "metadata": {},
   "outputs": [
    {
     "name": "stdout",
     "output_type": "stream",
     "text": [
      "0xfade\n"
     ]
    }
   ],
   "source": [
    "print(hex(64222))"
   ]
  },
  {
   "cell_type": "code",
   "execution_count": 52,
   "id": "71f6db6c",
   "metadata": {},
   "outputs": [
    {
     "name": "stdout",
     "output_type": "stream",
     "text": [
      "0b1010000\n"
     ]
    }
   ],
   "source": [
    "print(bin(0b1010000))"
   ]
  },
  {
   "cell_type": "code",
   "execution_count": 53,
   "id": "703c937b",
   "metadata": {},
   "outputs": [
    {
     "name": "stdout",
     "output_type": "stream",
     "text": [
      "0b1111101011011110\n"
     ]
    }
   ],
   "source": [
    "print(bin(0xfade))"
   ]
  },
  {
   "cell_type": "code",
   "execution_count": 54,
   "id": "9affb653",
   "metadata": {},
   "outputs": [
    {
     "name": "stdout",
     "output_type": "stream",
     "text": [
      "0o175336\n"
     ]
    }
   ],
   "source": [
    "print(oct(0xfade))"
   ]
  },
  {
   "cell_type": "code",
   "execution_count": 55,
   "id": "1728f056",
   "metadata": {},
   "outputs": [
    {
     "name": "stdout",
     "output_type": "stream",
     "text": [
      "0o7436\n"
     ]
    }
   ],
   "source": [
    "print(oct(0o7436))"
   ]
  },
  {
   "cell_type": "code",
   "execution_count": 56,
   "id": "164aef6c",
   "metadata": {},
   "outputs": [
    {
     "name": "stdout",
     "output_type": "stream",
     "text": [
      "0x50\n"
     ]
    }
   ],
   "source": [
    "print(hex(0b1010000))"
   ]
  },
  {
   "cell_type": "code",
   "execution_count": 57,
   "id": "5a1d5b30",
   "metadata": {},
   "outputs": [
    {
     "name": "stdout",
     "output_type": "stream",
     "text": [
      "0xfade\n"
     ]
    }
   ],
   "source": [
    "print(hex(0xfade))"
   ]
  },
  {
   "cell_type": "code",
   "execution_count": null,
   "id": "54c44df9",
   "metadata": {},
   "outputs": [],
   "source": []
  }
 ],
 "metadata": {
  "kernelspec": {
   "display_name": "Python 3 (ipykernel)",
   "language": "python",
   "name": "python3"
  },
  "language_info": {
   "codemirror_mode": {
    "name": "ipython",
    "version": 3
   },
   "file_extension": ".py",
   "mimetype": "text/x-python",
   "name": "python",
   "nbconvert_exporter": "python",
   "pygments_lexer": "ipython3",
   "version": "3.9.12"
  }
 },
 "nbformat": 4,
 "nbformat_minor": 5
}
