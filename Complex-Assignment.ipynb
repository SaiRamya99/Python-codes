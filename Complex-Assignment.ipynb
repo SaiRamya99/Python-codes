{
 "cells": [
  {
   "cell_type": "markdown",
   "id": "83acc230",
   "metadata": {},
   "source": [
    "Q# Declare a complex number and store it in a variable.\n",
    "Check the type and print the id of the same."
   ]
  },
  {
   "cell_type": "code",
   "execution_count": 1,
   "id": "d5986521",
   "metadata": {},
   "outputs": [
    {
     "name": "stdout",
     "output_type": "stream",
     "text": [
      "Type of a: <class 'complex'>\n",
      "ID of a: 2393163054736\n"
     ]
    }
   ],
   "source": [
    "a = 2+3j\n",
    "print(f\"Type of a: {type(a)}\")\n",
    "print(f\"ID of a: {id(a)}\")"
   ]
  },
  {
   "cell_type": "markdown",
   "id": "16173bb8",
   "metadata": {},
   "source": [
    "Q# Arithmetic Operations on complex number\n",
    "Take two different complex numbers.\n",
    "Store them in two different variables.\n",
    "Do below operations on them:-\n",
    "Find sum of both numbers\n",
    "Find difference between them\n",
    "Find the product of both numbers.\n",
    "Find value after dividing first num with second number\n",
    "Find the result of the first num to the power of the second number."
   ]
  },
  {
   "cell_type": "code",
   "execution_count": 2,
   "id": "67052c9b",
   "metadata": {},
   "outputs": [
    {
     "name": "stdout",
     "output_type": "stream",
     "text": [
      "Sum of two numbers: (12+7j)\n"
     ]
    }
   ],
   "source": [
    "#Ans\n",
    "\n",
    "num1 = 10+5j\n",
    "num2 = 2+2j\n",
    "\n",
    "#Find sum of both numbers\n",
    "sum1 = num1 + num2\n",
    "print(f\"Sum of two numbers: {sum1}\")"
   ]
  },
  {
   "cell_type": "code",
   "execution_count": 3,
   "id": "f63ce17e",
   "metadata": {},
   "outputs": [
    {
     "name": "stdout",
     "output_type": "stream",
     "text": [
      "Difference of two numbers: (8+3j)\n"
     ]
    }
   ],
   "source": [
    "#Find difference between them\n",
    "diff1 = num1 - num2\n",
    "print(f\"Difference of two numbers: {diff1}\")"
   ]
  },
  {
   "cell_type": "code",
   "execution_count": 4,
   "id": "0f0360af",
   "metadata": {},
   "outputs": [
    {
     "name": "stdout",
     "output_type": "stream",
     "text": [
      "Product of two numbers: (10+30j)\n"
     ]
    }
   ],
   "source": [
    "#Find the product of both numbers.\n",
    "prod1 = num1 * num2\n",
    "print(f\"Product of two numbers: {prod1}\")"
   ]
  },
  {
   "cell_type": "code",
   "execution_count": 5,
   "id": "ab817db4",
   "metadata": {},
   "outputs": [
    {
     "name": "stdout",
     "output_type": "stream",
     "text": [
      "Division of num1 by num2: (3.75-1.25j)\n"
     ]
    }
   ],
   "source": [
    "#Find value after dividing first num with second number\n",
    "Div1 = num1 / num2\n",
    "print(f\"Division of num1 by num2: {Div1}\")"
   ]
  },
  {
   "cell_type": "code",
   "execution_count": 6,
   "id": "80087ad9",
   "metadata": {},
   "outputs": [
    {
     "name": "stdout",
     "output_type": "stream",
     "text": [
      "Result of num1 to the power of num2: (42.72868458028122-24.896549142670548j)\n"
     ]
    }
   ],
   "source": [
    "#Find the result of the first num to the power of the second number.\n",
    "Power1 = num1 ** num2\n",
    "print(f\"Result of num1 to the power of num2: {Power1}\")"
   ]
  },
  {
   "cell_type": "markdown",
   "id": "fb14cf87",
   "metadata": {},
   "source": [
    "Q# Equality Operator\n",
    "Take two different complex numbers.\n",
    "Store them in two different variables.\n",
    "Equate them using equality operators (==, !=)"
   ]
  },
  {
   "cell_type": "code",
   "execution_count": 7,
   "id": "c3caaa60",
   "metadata": {},
   "outputs": [
    {
     "name": "stdout",
     "output_type": "stream",
     "text": [
      "False\n"
     ]
    }
   ],
   "source": [
    "#Ans\n",
    "\n",
    "num1 = 10+5j\n",
    "num2 = 2+2j\n",
    "print(num1 == num2)"
   ]
  },
  {
   "cell_type": "code",
   "execution_count": 8,
   "id": "fc16ae90",
   "metadata": {},
   "outputs": [
    {
     "name": "stdout",
     "output_type": "stream",
     "text": [
      "True\n"
     ]
    }
   ],
   "source": [
    "print(num1 != num2)"
   ]
  },
  {
   "cell_type": "markdown",
   "id": "e152f2a2",
   "metadata": {},
   "source": [
    "Q# Logical operators\n",
    "Observe the output of below code\n",
    "Cross check the output manually"
   ]
  },
  {
   "cell_type": "code",
   "execution_count": 9,
   "id": "d45c612c",
   "metadata": {},
   "outputs": [
    {
     "name": "stdout",
     "output_type": "stream",
     "text": [
      "(20+30j)\n"
     ]
    }
   ],
   "source": [
    "print(10+20j and 20+30j)"
   ]
  },
  {
   "cell_type": "code",
   "execution_count": 10,
   "id": "8aaa3202",
   "metadata": {},
   "outputs": [
    {
     "name": "stdout",
     "output_type": "stream",
     "text": [
      "0j\n"
     ]
    }
   ],
   "source": [
    "print(0+0j and 20+30j)"
   ]
  },
  {
   "cell_type": "code",
   "execution_count": 11,
   "id": "9858a48f",
   "metadata": {},
   "outputs": [
    {
     "name": "stdout",
     "output_type": "stream",
     "text": [
      "0j\n"
     ]
    }
   ],
   "source": [
    "print(20+30j and 0+0j)"
   ]
  },
  {
   "cell_type": "code",
   "execution_count": 12,
   "id": "97d344c9",
   "metadata": {},
   "outputs": [
    {
     "name": "stdout",
     "output_type": "stream",
     "text": [
      "0j\n"
     ]
    }
   ],
   "source": [
    "print(0+0j and 0+0j)"
   ]
  },
  {
   "cell_type": "code",
   "execution_count": 13,
   "id": "cd3c0c07",
   "metadata": {},
   "outputs": [
    {
     "name": "stdout",
     "output_type": "stream",
     "text": [
      "(10+20j)\n"
     ]
    }
   ],
   "source": [
    "print(10+20j or 20+30j)"
   ]
  },
  {
   "cell_type": "code",
   "execution_count": 14,
   "id": "fdf8f6cc",
   "metadata": {},
   "outputs": [
    {
     "name": "stdout",
     "output_type": "stream",
     "text": [
      "(20+30j)\n"
     ]
    }
   ],
   "source": [
    "print(0+0j or 20+30j)"
   ]
  },
  {
   "cell_type": "code",
   "execution_count": 15,
   "id": "acea0a3e",
   "metadata": {},
   "outputs": [
    {
     "name": "stdout",
     "output_type": "stream",
     "text": [
      "(20+30j)\n"
     ]
    }
   ],
   "source": [
    "print(20+30j or 0+0j)"
   ]
  },
  {
   "cell_type": "code",
   "execution_count": 16,
   "id": "42ff4e37",
   "metadata": {},
   "outputs": [
    {
     "name": "stdout",
     "output_type": "stream",
     "text": [
      "0j\n"
     ]
    }
   ],
   "source": [
    "print(0+0j or 0+0j)"
   ]
  },
  {
   "cell_type": "code",
   "execution_count": 17,
   "id": "3ddcfa2a",
   "metadata": {},
   "outputs": [
    {
     "name": "stdout",
     "output_type": "stream",
     "text": [
      "False\n"
     ]
    }
   ],
   "source": [
    "print(not 10+20j)"
   ]
  },
  {
   "cell_type": "code",
   "execution_count": 18,
   "id": "1c269724",
   "metadata": {},
   "outputs": [
    {
     "name": "stdout",
     "output_type": "stream",
     "text": [
      "True\n"
     ]
    }
   ],
   "source": [
    "print(not 0+0j)"
   ]
  },
  {
   "cell_type": "markdown",
   "id": "4ed808a8",
   "metadata": {},
   "source": [
    "Q# What is the output of the expression inside the print statement.\n",
    "Cross check before running the program."
   ]
  },
  {
   "cell_type": "code",
   "execution_count": 19,
   "id": "4c8008c5",
   "metadata": {},
   "outputs": [
    {
     "name": "stdout",
     "output_type": "stream",
     "text": [
      "False\n",
      "True\n"
     ]
    }
   ],
   "source": [
    "a = 10+20j\n",
    "b = 10+20j\n",
    "print(a is b) \n",
    "print(a is not b)"
   ]
  },
  {
   "cell_type": "markdown",
   "id": "bb0b9ff5",
   "metadata": {},
   "source": [
    "Q# Membership operation\n",
    "in, not in are two membership operators and it returns boolean value"
   ]
  },
  {
   "cell_type": "code",
   "execution_count": 20,
   "id": "d6d7d77a",
   "metadata": {},
   "outputs": [
    {
     "name": "stdout",
     "output_type": "stream",
     "text": [
      "True\n"
     ]
    }
   ],
   "source": [
    "print('2.7' in 'Python2.7.8')"
   ]
  },
  {
   "cell_type": "code",
   "execution_count": 21,
   "id": "f3635088",
   "metadata": {},
   "outputs": [
    {
     "name": "stdout",
     "output_type": "stream",
     "text": [
      "True\n"
     ]
    }
   ],
   "source": [
    "print(10+20j in [10,10.20,10+20j,'Python'])"
   ]
  },
  {
   "cell_type": "code",
   "execution_count": 22,
   "id": "510dd298",
   "metadata": {},
   "outputs": [
    {
     "name": "stdout",
     "output_type": "stream",
     "text": [
      "True\n"
     ]
    }
   ],
   "source": [
    "print(10+20j in (10,10.20,10+20j,'Python'))"
   ]
  },
  {
   "cell_type": "code",
   "execution_count": 23,
   "id": "5ffd0264",
   "metadata": {},
   "outputs": [
    {
     "name": "stdout",
     "output_type": "stream",
     "text": [
      "True\n"
     ]
    }
   ],
   "source": [
    "print(30+40j in {1,20.30,30+40j})"
   ]
  },
  {
   "cell_type": "code",
   "execution_count": 24,
   "id": "8fff5c4e",
   "metadata": {},
   "outputs": [
    {
     "name": "stdout",
     "output_type": "stream",
     "text": [
      "True\n"
     ]
    }
   ],
   "source": [
    "print(30+40j in {1:100, 2.3:200, 30+40j:300})"
   ]
  },
  {
   "cell_type": "code",
   "execution_count": 25,
   "id": "f7c53553",
   "metadata": {},
   "outputs": [
    {
     "name": "stdout",
     "output_type": "stream",
     "text": [
      "True\n"
     ]
    }
   ],
   "source": [
    "print(10 in range(20))"
   ]
  },
  {
   "cell_type": "code",
   "execution_count": null,
   "id": "42edbacd",
   "metadata": {},
   "outputs": [],
   "source": []
  }
 ],
 "metadata": {
  "kernelspec": {
   "display_name": "Python 3 (ipykernel)",
   "language": "python",
   "name": "python3"
  },
  "language_info": {
   "codemirror_mode": {
    "name": "ipython",
    "version": 3
   },
   "file_extension": ".py",
   "mimetype": "text/x-python",
   "name": "python",
   "nbconvert_exporter": "python",
   "pygments_lexer": "ipython3",
   "version": "3.9.12"
  }
 },
 "nbformat": 4,
 "nbformat_minor": 5
}
